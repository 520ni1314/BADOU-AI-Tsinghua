{
 "cells": [
  {
   "cell_type": "code",
   "execution_count": 1,
   "id": "bdb983be",
   "metadata": {},
   "outputs": [],
   "source": [
    "# 引入Python包，在jupyter notebook 运行后可以直接输出多个变量 注意大小写\n",
    "from IPython.core.interactiveshell import InteractiveShell\n",
    "InteractiveShell.ast_node_interactivity = \"all\"\n",
    "\n",
    "# 指定gpu设备\n",
    "import os\n",
    "os.environ['CUDA_VISIBLE_DEVICES'] =\"0\" # gpu\n",
    "# os.environ[\"CUDA_VISIBLE_DEVICES\"] = \"-1\" # cpu\n",
    "\n",
    "import numpy as np\n",
    "import matplotlib.pyplot as plt\n",
    "%matplotlib inline"
   ]
  },
  {
   "cell_type": "code",
   "execution_count": 2,
   "id": "6219603a",
   "metadata": {},
   "outputs": [
    {
     "data": {
      "text/plain": [
       "(6, 2)"
      ]
     },
     "execution_count": 2,
     "metadata": {},
     "output_type": "execute_result"
    },
    {
     "data": {
      "text/plain": [
       "(6, 2)"
      ]
     },
     "execution_count": 2,
     "metadata": {},
     "output_type": "execute_result"
    },
    {
     "data": {
      "text/plain": [
       "array([0.        , 0.33333333])"
      ]
     },
     "execution_count": 2,
     "metadata": {},
     "output_type": "execute_result"
    },
    {
     "data": {
      "text/plain": [
       "array([[-1.        ,  0.66666667],\n",
       "       [-2.        , -1.33333333],\n",
       "       [-3.        , -2.33333333],\n",
       "       [ 1.        ,  0.66666667],\n",
       "       [ 2.        ,  0.66666667],\n",
       "       [ 3.        ,  1.66666667]])"
      ]
     },
     "execution_count": 2,
     "metadata": {},
     "output_type": "execute_result"
    },
    {
     "data": {
      "text/plain": [
       "array([[4.66666667, 2.66666667],\n",
       "       [2.66666667, 1.88888889]])"
      ]
     },
     "execution_count": 2,
     "metadata": {},
     "output_type": "execute_result"
    },
    {
     "data": {
      "text/plain": [
       "(array([6.28445758, 0.27109797]),\n",
       " array([[ 0.8549662 , -0.51868371],\n",
       "        [ 0.51868371,  0.8549662 ]]))"
      ]
     },
     "execution_count": 2,
     "metadata": {},
     "output_type": "execute_result"
    },
    {
     "data": {
      "text/plain": [
       "[(6.284457583941069, array([0.8549662 , 0.51868371])),\n",
       " (0.27109797161448745, array([-0.51868371,  0.8549662 ]))]"
      ]
     },
     "execution_count": 2,
     "metadata": {},
     "output_type": "execute_result"
    },
    {
     "data": {
      "text/plain": [
       "array([[0.8549662 , 0.51868371]])"
      ]
     },
     "execution_count": 2,
     "metadata": {},
     "output_type": "execute_result"
    },
    {
     "data": {
      "text/plain": [
       "array([[-0.50917706],\n",
       "       [-2.40151069],\n",
       "       [-3.7751606 ],\n",
       "       [ 1.20075534],\n",
       "       [ 2.05572155],\n",
       "       [ 3.42937146]])"
      ]
     },
     "execution_count": 2,
     "metadata": {},
     "output_type": "execute_result"
    }
   ],
   "source": [
    "# 单步调试，查看各步结果\n",
    "X = np.array([[-1, 1], [-2, -1], [-3, -2], [1, 1], [2, 1], [3, 2]])\n",
    "X.shape\n",
    "samples, features = X.shape\n",
    "samples, features\n",
    "\n",
    "k = features - 1\n",
    "\n",
    "# 求均值\n",
    "mean = np.array([np.mean(X[:,i]) for i in range(features)])\n",
    "mean\n",
    "# 数据中心化\n",
    "norm_X = X - mean\n",
    "norm_X\n",
    "\n",
    "# 计算协方差矩阵\n",
    "# 中心化之后的协方差矩阵，除不除 sample，对最终的特征值没有影响，为什么？\n",
    "scatter_matrix = np.dot(np.transpose(norm_X), norm_X)  / samples\n",
    "scatter_matrix\n",
    "# 求特征矩阵和特征值\n",
    "eig_val, eig_vec = np.linalg.eig(scatter_matrix)\n",
    "eig_val, eig_vec\n",
    "\n",
    "eig_pairs = [(np.abs(eig_val[i]), eig_vec[:,i]) for i in range(features)]\n",
    "eig_pairs\n",
    "eig_pairs.sort(reverse=True)\n",
    "feature = np.array([ele[1] for ele in eig_pairs[:k]])\n",
    "feature\n",
    "data = np.dot(norm_X,np.transpose(feature))\n",
    "data"
   ]
  },
  {
   "cell_type": "code",
   "execution_count": 3,
   "id": "22a3d429",
   "metadata": {},
   "outputs": [],
   "source": [
    "# 封装成 接口\n",
    "def my_pca(X, k):\n",
    "    assert(k > 0)\n",
    "    samples, features = X.shape\n",
    "\n",
    "    # 求均值\n",
    "    mean = np.array([np.mean(X[:,i]) for i in range(features)])\n",
    "    # 数据中心化\n",
    "    norm_X = X - mean\n",
    "\n",
    "    # 计算协方差矩阵\n",
    "    # 中心化之后的协方差矩阵，除不除 sample，对最终的特征值没有影响，为什么？\n",
    "    scatter_matrix = np.dot(np.transpose(norm_X), norm_X)  / samples\n",
    "    # 求特征矩阵和特征值\n",
    "    eig_val, eig_vec = np.linalg.eig(scatter_matrix)\n",
    "    eig_pairs = [(np.abs(eig_val[i]), eig_vec[:,i]) for i in range(features)]\n",
    "    feature = np.array([ele[1] for ele in eig_pairs[:k]])\n",
    "    data = np.dot(norm_X,np.transpose(feature))\n",
    "    return data"
   ]
  },
  {
   "cell_type": "code",
   "execution_count": 4,
   "id": "626b71a7",
   "metadata": {},
   "outputs": [
    {
     "data": {
      "text/plain": [
       "array([[-0.50917706],\n",
       "       [-2.40151069],\n",
       "       [-3.7751606 ],\n",
       "       [ 1.20075534],\n",
       "       [ 2.05572155],\n",
       "       [ 3.42937146]])"
      ]
     },
     "execution_count": 4,
     "metadata": {},
     "output_type": "execute_result"
    },
    {
     "data": {
      "text/plain": [
       "array([[ 13.46265879,   0.14716812],\n",
       "       [-21.26163019,   6.12047583],\n",
       "       [  4.72218421, -11.17511862],\n",
       "       [ 20.73656976,  -4.11279645],\n",
       "       [-29.35392285, -16.6403498 ],\n",
       "       [-24.34524952,  15.35505662],\n",
       "       [  2.02368689,   6.94159433],\n",
       "       [ 17.20180383,   7.68072922],\n",
       "       [ 12.59724119,   2.8162366 ],\n",
       "       [  4.2166579 ,  -7.13299586]])"
      ]
     },
     "execution_count": 4,
     "metadata": {},
     "output_type": "execute_result"
    }
   ],
   "source": [
    "X = np.array([[-1, 1], [-2, -1], [-3, -2], [1, 1], [2, 1], [3, 2]])\n",
    "my_pca(X, 1)\n",
    "X = np.array([[10, 15, 29],\n",
    "                  [15, 46, 13],\n",
    "                  [23, 21, 30],\n",
    "                  [11, 9,  35],\n",
    "                  [42, 45, 11],\n",
    "                  [9,  48, 5],\n",
    "                  [11, 21, 14],\n",
    "                  [8,  5,  15],\n",
    "                  [11, 12, 21],\n",
    "                  [21, 20, 25]])\n",
    "my_pca(X, 2)"
   ]
  },
  {
   "cell_type": "code",
   "execution_count": 5,
   "id": "b9338787",
   "metadata": {},
   "outputs": [
    {
     "data": {
      "text/plain": [
       "array([[ 0.50917706,  1.08866118],\n",
       "       [ 2.40151069, -0.10258752],\n",
       "       [ 3.7751606 , -0.43887001],\n",
       "       [-1.20075534,  0.05129376],\n",
       "       [-2.05572155, -0.46738995],\n",
       "       [-3.42937146, -0.13110746]])"
      ]
     },
     "execution_count": 5,
     "metadata": {},
     "output_type": "execute_result"
    },
    {
     "data": {
      "text/plain": [
       "array([0.95864607, 0.04135393])"
      ]
     },
     "execution_count": 5,
     "metadata": {},
     "output_type": "execute_result"
    }
   ],
   "source": [
    "# conda install scikit-learn\n",
    "# sklean 方法\n",
    "from sklearn.decomposition import PCA\n",
    "X = np.array([[-1, 1], [-2, -1], [-3, -2], [1, 1], [2, 1], [3, 2]])\n",
    "pca = PCA(n_components=2)\n",
    "newX = pca.fit_transform(X)\n",
    "newX\n",
    "# 可以看到第一维能表达95%的数据，如果只用1维表达原数据，那就说明有会5%的信息损失\n",
    "pca.explained_variance_ratio_"
   ]
  },
  {
   "cell_type": "code",
   "execution_count": 6,
   "id": "caf8d4f0",
   "metadata": {},
   "outputs": [
    {
     "data": {
      "text/plain": [
       "array([[-13.46265879,  -0.14716812,  -5.02246553],\n",
       "       [ 21.26163019,  -6.12047583,  -5.75958828],\n",
       "       [ -4.72218421,  11.17511862,  -3.83506194],\n",
       "       [-20.73656976,   4.11279645,  -6.41635255],\n",
       "       [ 29.35392285,  16.6403498 ,   6.50660983],\n",
       "       [ 24.34524952, -15.35505662,  -2.72416256],\n",
       "       [ -2.02368689,  -6.94159433,   4.19630307],\n",
       "       [-17.20180383,  -7.68072922,  10.11900902],\n",
       "       [-12.59724119,  -2.8162366 ,   3.10939317],\n",
       "       [ -4.2166579 ,   7.13299586,  -0.17368423]])"
      ]
     },
     "execution_count": 6,
     "metadata": {},
     "output_type": "execute_result"
    },
    {
     "data": {
      "text/plain": [
       "array([0.723691  , 0.20583705, 0.07047195])"
      ]
     },
     "execution_count": 6,
     "metadata": {},
     "output_type": "execute_result"
    }
   ],
   "source": [
    "X = np.array([[10, 15, 29],\n",
    "                  [15, 46, 13],\n",
    "                  [23, 21, 30],\n",
    "                  [11, 9,  35],\n",
    "                  [42, 45, 11],\n",
    "                  [9,  48, 5],\n",
    "                  [11, 21, 14],\n",
    "                  [8,  5,  15],\n",
    "                  [11, 12, 21],\n",
    "                  [21, 20, 25]])\n",
    "pca = PCA(n_components=3)\n",
    "newX = pca.fit_transform(X)\n",
    "newX\n",
    "pca.explained_variance_ratio_"
   ]
  },
  {
   "cell_type": "code",
   "execution_count": 7,
   "id": "54b3bcdc",
   "metadata": {},
   "outputs": [
    {
     "data": {
      "text/html": [
       "<div>\n",
       "<style scoped>\n",
       "    .dataframe tbody tr th:only-of-type {\n",
       "        vertical-align: middle;\n",
       "    }\n",
       "\n",
       "    .dataframe tbody tr th {\n",
       "        vertical-align: top;\n",
       "    }\n",
       "\n",
       "    .dataframe thead th {\n",
       "        text-align: right;\n",
       "    }\n",
       "</style>\n",
       "<table border=\"1\" class=\"dataframe\">\n",
       "  <thead>\n",
       "    <tr style=\"text-align: right;\">\n",
       "      <th></th>\n",
       "      <th>sepal length (cm)</th>\n",
       "      <th>sepal width (cm)</th>\n",
       "      <th>petal length (cm)</th>\n",
       "      <th>petal width (cm)</th>\n",
       "    </tr>\n",
       "  </thead>\n",
       "  <tbody>\n",
       "    <tr>\n",
       "      <th>count</th>\n",
       "      <td>150.000000</td>\n",
       "      <td>150.000000</td>\n",
       "      <td>150.000000</td>\n",
       "      <td>150.000000</td>\n",
       "    </tr>\n",
       "    <tr>\n",
       "      <th>mean</th>\n",
       "      <td>5.843333</td>\n",
       "      <td>3.057333</td>\n",
       "      <td>3.758000</td>\n",
       "      <td>1.199333</td>\n",
       "    </tr>\n",
       "    <tr>\n",
       "      <th>std</th>\n",
       "      <td>0.828066</td>\n",
       "      <td>0.435866</td>\n",
       "      <td>1.765298</td>\n",
       "      <td>0.762238</td>\n",
       "    </tr>\n",
       "    <tr>\n",
       "      <th>min</th>\n",
       "      <td>4.300000</td>\n",
       "      <td>2.000000</td>\n",
       "      <td>1.000000</td>\n",
       "      <td>0.100000</td>\n",
       "    </tr>\n",
       "    <tr>\n",
       "      <th>25%</th>\n",
       "      <td>5.100000</td>\n",
       "      <td>2.800000</td>\n",
       "      <td>1.600000</td>\n",
       "      <td>0.300000</td>\n",
       "    </tr>\n",
       "    <tr>\n",
       "      <th>50%</th>\n",
       "      <td>5.800000</td>\n",
       "      <td>3.000000</td>\n",
       "      <td>4.350000</td>\n",
       "      <td>1.300000</td>\n",
       "    </tr>\n",
       "    <tr>\n",
       "      <th>75%</th>\n",
       "      <td>6.400000</td>\n",
       "      <td>3.300000</td>\n",
       "      <td>5.100000</td>\n",
       "      <td>1.800000</td>\n",
       "    </tr>\n",
       "    <tr>\n",
       "      <th>max</th>\n",
       "      <td>7.900000</td>\n",
       "      <td>4.400000</td>\n",
       "      <td>6.900000</td>\n",
       "      <td>2.500000</td>\n",
       "    </tr>\n",
       "  </tbody>\n",
       "</table>\n",
       "</div>"
      ],
      "text/plain": [
       "       sepal length (cm)  sepal width (cm)  petal length (cm)  \\\n",
       "count         150.000000        150.000000         150.000000   \n",
       "mean            5.843333          3.057333           3.758000   \n",
       "std             0.828066          0.435866           1.765298   \n",
       "min             4.300000          2.000000           1.000000   \n",
       "25%             5.100000          2.800000           1.600000   \n",
       "50%             5.800000          3.000000           4.350000   \n",
       "75%             6.400000          3.300000           5.100000   \n",
       "max             7.900000          4.400000           6.900000   \n",
       "\n",
       "       petal width (cm)  \n",
       "count        150.000000  \n",
       "mean           1.199333  \n",
       "std            0.762238  \n",
       "min            0.100000  \n",
       "25%            0.300000  \n",
       "50%            1.300000  \n",
       "75%            1.800000  \n",
       "max            2.500000  "
      ]
     },
     "execution_count": 7,
     "metadata": {},
     "output_type": "execute_result"
    },
    {
     "data": {
      "text/plain": [
       "<matplotlib.axes._subplots.AxesSubplot at 0x1d3148bb488>"
      ]
     },
     "execution_count": 7,
     "metadata": {},
     "output_type": "execute_result"
    },
    {
     "data": {
      "image/png": "[encoded data removed]",
      "text/plain": [
       "<Figure size 1080x720 with 1 Axes>"
      ]
     },
     "metadata": {
      "needs_background": "light"
     },
     "output_type": "display_data"
    }
   ],
   "source": [
    "# 鸢尾花数据集\n",
    "from sklearn import datasets\n",
    "import pandas as pd\n",
    "\n",
    "iris = datasets.load_iris()\n",
    "irisFeatures = iris[\"data\"]\n",
    "irisFeaturesName = iris[\"feature_names\"]\n",
    "irisLabels = iris[\"target\"]\n",
    "\n",
    "dataset = pd.DataFrame(irisFeatures, columns=['sepal length (cm)', 'sepal width (cm)', 'petal length (cm)', 'petal width (cm)'])\n",
    "dataset.describe()\n",
    "# 箱线图：boxplot所绘制的就是箱线图, 它能显示出一组数据的最大值, 最小值, 四分位数以及异常点\n",
    "dataset.plot.box(figsize=(15, 10))"
   ]
  },
  {
   "cell_type": "code",
   "execution_count": 8,
   "id": "70641d63",
   "metadata": {},
   "outputs": [
    {
     "data": {
      "text/plain": [
       "array([[<matplotlib.axes._subplots.AxesSubplot object at 0x000001D3149E1A88>,\n",
       "        <matplotlib.axes._subplots.AxesSubplot object at 0x000001D314D36A08>],\n",
       "       [<matplotlib.axes._subplots.AxesSubplot object at 0x000001D314A22488>,\n",
       "        <matplotlib.axes._subplots.AxesSubplot object at 0x000001D314A5B2C8>]],\n",
       "      dtype=object)"
      ]
     },
     "execution_count": 8,
     "metadata": {},
     "output_type": "execute_result"
    },
    {
     "data": {
      "image/png": "[encoded data removed]",
      "text/plain": [
       "<Figure size 1080x720 with 4 Axes>"
      ]
     },
     "metadata": {
      "needs_background": "light"
     },
     "output_type": "display_data"
    }
   ],
   "source": [
    "s = dataset.hist(figsize=(15, 10))  # 数据直方图histograms\n",
    "s"
   ]
  },
  {
   "cell_type": "code",
   "execution_count": 9,
   "id": "d0938107",
   "metadata": {},
   "outputs": [
    {
     "data": {
      "text/plain": [
       "sklearn.utils.Bunch"
      ]
     },
     "execution_count": 9,
     "metadata": {},
     "output_type": "execute_result"
    },
    {
     "data": {
      "text/plain": [
       "dict_keys(['data', 'target', 'target_names', 'DESCR', 'feature_names', 'filename'])"
      ]
     },
     "execution_count": 9,
     "metadata": {},
     "output_type": "execute_result"
    },
    {
     "data": {
      "text/plain": [
       "numpy.ndarray"
      ]
     },
     "execution_count": 9,
     "metadata": {},
     "output_type": "execute_result"
    },
    {
     "data": {
      "text/plain": [
       "(150, 4)"
      ]
     },
     "execution_count": 9,
     "metadata": {},
     "output_type": "execute_result"
    },
    {
     "data": {
      "text/plain": [
       "array([0.92461872, 0.05306648, 0.01710261, 0.00521218])"
      ]
     },
     "execution_count": 9,
     "metadata": {},
     "output_type": "execute_result"
    }
   ],
   "source": [
    "# 鸢尾花数据集降维\n",
    "iris = datasets.load_iris()\n",
    "type(iris)\n",
    "iris.keys()\n",
    "type(iris['data'])\n",
    "iris['data'].shape\n",
    "# iris['data']\n",
    "# iris['target']\n",
    "# iris['target_names']\n",
    "\n",
    "X = iris['data']\n",
    "pca = PCA(n_components=4)\n",
    "newX = pca.fit_transform(X)\n",
    "# newX\n",
    "pca.explained_variance_ratio_"
   ]
  },
  {
   "cell_type": "code",
   "execution_count": null,
   "id": "50e2b79f",
   "metadata": {},
   "outputs": [],
   "source": []
  }
 ],
 "metadata": {
  "kernelspec": {
   "display_name": "Python [conda env:tensorflow_114_gpu]",
   "language": "python",
   "name": "conda-env-tensorflow_114_gpu-py"
  },
  "language_info": {
   "codemirror_mode": {
    "name": "ipython",
    "version": 3
   },
   "file_extension": ".py",
   "mimetype": "text/x-python",
   "name": "python",
   "nbconvert_exporter": "python",
   "pygments_lexer": "ipython3",
   "version": "3.7.12"
  }
 },
 "nbformat": 4,
 "nbformat_minor": 5
}
