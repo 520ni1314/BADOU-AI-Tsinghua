{
 "cells": [
  {
   "cell_type": "code",
   "execution_count": 1,
   "metadata": {
    "collapsed": true
   },
   "outputs": [],
   "source": [
    "import numpy as np\n",
    "import cv2"
   ]
  },
  {
   "cell_type": "code",
   "execution_count": 2,
   "metadata": {
    "collapsed": true
   },
   "outputs": [],
   "source": [
    "def nearest_interp(img):\n",
    "    (height,width,channels)=img.shape\n",
    "    emptyImage = np.zeros((800,800,channels),img.dtype)\n",
    "    sh = 800/height\n",
    "    sw = 800/width\n",
    "    for i in range(800):\n",
    "        for j in range(800):\n",
    "            x = int(i/sh+0.5)\n",
    "            y = int(j/sw+0.5)\n",
    "            emptyImage[i,j,:] = img[x,y,:]\n",
    "    return emptyImage"
   ]
  },
  {
   "cell_type": "code",
   "execution_count": 3,
   "metadata": {},
   "outputs": [
    {
     "data": {
      "text/plain": [
       "-1"
      ]
     },
     "execution_count": 3,
     "metadata": {},
     "output_type": "execute_result"
    }
   ],
   "source": [
    "img = cv2.imread('lenna.png')\n",
    "new_img = nearest_interp(img)\n",
    "cv2.imshow('image',img)\n",
    "cv2.imshow('nearest interp',new_img)\n",
    "cv2.waitKey(0)"
   ]
  },
  {
   "cell_type": "code",
   "execution_count": null,
   "metadata": {
    "collapsed": true
   },
   "outputs": [],
   "source": []
  }
 ],
 "metadata": {
  "kernelspec": {
   "display_name": "Python 3",
   "language": "python",
   "name": "python3"
  },
  "language_info": {
   "codemirror_mode": {
    "name": "ipython",
    "version": 3
   },
   "file_extension": ".py",
   "mimetype": "text/x-python",
   "name": "python",
   "nbconvert_exporter": "python",
   "pygments_lexer": "ipython3",
   "version": "3.6.13"
  }
 },
 "nbformat": 4,
 "nbformat_minor": 2
}
