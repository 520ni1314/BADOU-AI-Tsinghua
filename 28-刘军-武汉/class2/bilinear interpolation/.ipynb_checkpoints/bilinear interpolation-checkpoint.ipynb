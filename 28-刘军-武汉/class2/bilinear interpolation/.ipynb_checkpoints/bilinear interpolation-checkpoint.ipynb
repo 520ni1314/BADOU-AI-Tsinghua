{
 "cells": [
  {
   "cell_type": "code",
   "execution_count": 1,
   "metadata": {
    "collapsed": true
   },
   "outputs": [],
   "source": [
    "import numpy as np\n",
    "import cv2"
   ]
  },
  {
   "cell_type": "code",
   "execution_count": 2,
   "metadata": {},
   "outputs": [],
   "source": [
    "def bilinear_interpolation(img,out_dim):\n",
    "    height,width,channels = img.shape\n",
    "    scale_h,scale_w = height/out_dim[1],width/out_dim[0]\n",
    "    emplyImage = np.zeros((out_dim[1],out_dim[0],channels),dtype=np.uint8)\n",
    "    for i in range(out_dim[1]):\n",
    "        for j in range(out_dim[0]):\n",
    "            h,w = (i+0.5)*scale_h,(j+0.5)*scale_w\n",
    "            h_org,w_org = h-0.5,w-0.5\n",
    "            h_b0 = int(h_org)\n",
    "            w_b0 = int(w_org)\n",
    "            h_b1 = min(h_b0+1,height-1)\n",
    "            w_b1 = min(w_b0+1,width-1)\n",
    "            #h_0_gray = (h_b1-h_org)*img[h_b0,w_b0,:]+(h_org-h_b0)*img[h_b1,w_b0,:]\n",
    "            #h_1_gray = (h_b1-h_org)*img[h_b0,w_b1,:]+(h_org-h_b0)*img[h_b1,w_b1,:]\n",
    "            #emplyImage[i,j,:] = ((w_b1-w_org)*h_0_gray+(w_org-w_b0)*h_1_gray).astype(int)\n",
    "            h_0_gray = (h_org-h_b0)*(img[h_b1,w_b0,:].astype(int)-img[h_b0,w_b0,:].astype(int))+img[h_b0,w_b0,:]\n",
    "            h_1_gray = (h_org-h_b0)*(img[h_b1,w_b1,:].astype(int)-img[h_b0,w_b1,:].astype(int))+img[h_b0,w_b1,:]\n",
    "            emplyImage[i,j,:] = ((w_org-w_b0)*(h_1_gray-h_0_gray)+h_0_gray).astype(int)\n",
    "    return emplyImage"
   ]
  },
  {
   "cell_type": "code",
   "execution_count": 3,
   "metadata": {},
   "outputs": [
    {
     "data": {
      "text/plain": [
       "-1"
      ]
     },
     "execution_count": 3,
     "metadata": {},
     "output_type": "execute_result"
    }
   ],
   "source": [
    "img = cv2.imread('lenna.png')\n",
    "img_new1 = bilinear_interpolation(img,(800,800))\n",
    "cv2.imshow('bilinear interp',img_new1)\n",
    "cv2.waitKey()\n"
   ]
  },
  {
   "cell_type": "code",
   "execution_count": 4,
   "metadata": {
    "collapsed": true
   },
   "outputs": [],
   "source": []
  },
  {
   "cell_type": "code",
   "execution_count": 5,
   "metadata": {},
   "outputs": [
    {
     "name": "stdout",
     "output_type": "stream",
     "text": [
      "[[125 125 125 ... 111  99   0]\n",
      " [125 125 125 ... 111  99   0]\n",
      " [125 125 125 ... 111  99   0]\n",
      " ...\n",
      " [ 57  57  57 ...  80  80   0]\n",
      " [ 56  57  57 ...  80  81   0]\n",
      " [  0   0   0 ...   0   0   0]]\n",
      "[[137 137 137 ... 131 113   0]\n",
      " [137 137 137 ... 131 113   0]\n",
      " [137 137 137 ... 131 113   0]\n",
      " ...\n",
      " [ 21  21  22 ...  70  71   0]\n",
      " [ 21  22  23 ...  70  72   0]\n",
      " [  0   0   0 ...   0   0   0]]\n",
      "[[226 226 225 ... 221 209   0]\n",
      " [226 226 225 ... 221 209   0]\n",
      " [226 226 225 ... 221 209   0]\n",
      " ...\n",
      " [ 82  82  83 ... 179 182   0]\n",
      " [ 81  82  83 ... 180 183   0]\n",
      " [  0   0   0 ...   0   0   0]]\n",
      "(800, 800)\n"
     ]
    }
   ],
   "source": []
  },
  {
   "cell_type": "code",
   "execution_count": 6,
   "metadata": {},
   "outputs": [
    {
     "name": "stdout",
     "output_type": "stream",
     "text": [
      "[[125 125 133 ... 122 110  90]\n",
      " [125 125 133 ... 122 110  90]\n",
      " [125 125 133 ... 122 110  90]\n",
      " ...\n",
      " [ 60  60  58 ...  84  76  79]\n",
      " [ 57  57  62 ...  79  81  81]\n",
      " [ 57  57  62 ...  79  81  81]]\n"
     ]
    }
   ],
   "source": []
  },
  {
   "cell_type": "code",
   "execution_count": 7,
   "metadata": {},
   "outputs": [
    {
     "name": "stdout",
     "output_type": "stream",
     "text": [
      "[[  0   0   0 ...   0   0  90]\n",
      " [  0   0   0 ...   0   0  90]\n",
      " [  0   0   0 ...   0   0  90]\n",
      " ...\n",
      " [230 230 208 ...  23   0  80]\n",
      " [  1   0   0 ...   0   0  81]\n",
      " [ 57  57  57 ...  80  81  81]]\n"
     ]
    }
   ],
   "source": []
  },
  {
   "cell_type": "code",
   "execution_count": 8,
   "metadata": {},
   "outputs": [
    {
     "name": "stdout",
     "output_type": "stream",
     "text": [
      "[[ 0  0  0 ...  0  0 99]\n",
      " [ 0  0  0 ...  0  0 99]\n",
      " [ 0  0  0 ...  0  0 99]\n",
      " ...\n",
      " [ 0  0  0 ... 23  0 72]\n",
      " [ 1  0  0 ...  0  0 74]\n",
      " [22 22 23 ... 70 72 74]]\n"
     ]
    }
   ],
   "source": []
  },
  {
   "cell_type": "code",
   "execution_count": null,
   "metadata": {
    "collapsed": true
   },
   "outputs": [],
   "source": []
  }
 ],
 "metadata": {
  "kernelspec": {
   "display_name": "Python 3",
   "language": "python",
   "name": "python3"
  },
  "language_info": {
   "codemirror_mode": {
    "name": "ipython",
    "version": 3
   },
   "file_extension": ".py",
   "mimetype": "text/x-python",
   "name": "python",
   "nbconvert_exporter": "python",
   "pygments_lexer": "ipython3",
   "version": "3.6.13"
  }
 },
 "nbformat": 4,
 "nbformat_minor": 2
}
