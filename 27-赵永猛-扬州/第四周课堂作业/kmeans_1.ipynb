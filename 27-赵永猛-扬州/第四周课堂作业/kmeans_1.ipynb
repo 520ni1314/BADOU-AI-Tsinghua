{
 "cells": [
  {
   "cell_type": "code",
   "execution_count": 55,
   "metadata": {
    "collapsed": true
   },
   "outputs": [
    {
     "name": "stdout",
     "output_type": "stream",
     "text": [
      "21\n",
      "0.4007\n",
      "[[0.0983 0.5772]\n",
      " [0.0747 0.4974]\n",
      " [0.1007 0.6318]] 0.5772 0.1007\n"
     ]
    }
   ],
   "source": [
    "import numpy as np\n",
    "#从数据集中随机选取k个样本\n",
    "dataSet = [[0.0888, 0.5885],\n",
    "     [0.1399, 0.8291],\n",
    "     [0.0747, 0.4974],\n",
    "     [0.0983, 0.5772],\n",
    "     [0.1276, 0.5703],\n",
    "     [0.1671, 0.5835],\n",
    "     [0.1306, 0.5276],\n",
    "     [0.1061, 0.5523],\n",
    "     [0.2446, 0.4007],\n",
    "     [0.1670, 0.4770],\n",
    "     [0.2485, 0.4313],\n",
    "     [0.1227, 0.4909],\n",
    "     [0.1240, 0.5668],\n",
    "     [0.1461, 0.5113],\n",
    "     [0.2315, 0.3788],\n",
    "     [0.0494, 0.5590],\n",
    "     [0.1107, 0.4799],\n",
    "     [0.1121, 0.5735],\n",
    "     [0.1007, 0.6318],\n",
    "     [0.2567, 0.4326],\n",
    "     [0.1956, 0.4280]\n",
    "    ]\n",
    "print(len(dataSet))\n",
    "#print(dataSet[8][1])\n",
    "A = np.array(dataSet)\n",
    "k = 3\n",
    "B = np.random.choice([x for x in range(len(dataSet))], k, replace = False)\n",
    "C= []\n",
    "for i in range(k):\n",
    "    C.append(A[B[i]])\n",
    "C = np.array(C)#C是存放样本集中随机选取得K个样本组成的数组\n",
    "print(C,C[0,1],C[2][0])\n",
    "B1, B2, B3 = [], [], []# 存放样本集各样本点距离选取质心的距离列表"
   ]
  },
  {
   "cell_type": "code",
   "execution_count": 56,
   "outputs": [
    {
     "name": "stdout",
     "output_type": "stream",
     "text": [
      "[[0.0888, 0.5885], [0.0983, 0.5772], [0.1276, 0.5703], [0.1671, 0.5835], [0.1306, 0.5276], [0.1061, 0.5523], [0.124, 0.5668], [0.0494, 0.559], [0.1121, 0.5735]] [[0.0747, 0.4974], [0.2446, 0.4007], [0.167, 0.477], [0.2485, 0.4313], [0.1227, 0.4909], [0.1461, 0.5113], [0.2315, 0.3788], [0.1107, 0.4799], [0.2567, 0.4326], [0.1956, 0.428]] [[0.1399, 0.8291], [0.1007, 0.6318]]\n",
      "[array([0.11155556, 0.56652222]), array([0.17981, 0.45279]), array([0.1203 , 0.73045])]\n",
      "[[0.0888, 0.5885], [0.0747, 0.4974], [0.0983, 0.5772], [0.1276, 0.5703], [0.1671, 0.5835], [0.1306, 0.5276], [0.1061, 0.5523], [0.124, 0.5668], [0.1461, 0.5113], [0.0494, 0.559], [0.1121, 0.5735], [0.1007, 0.6318]] [[0.2446, 0.4007], [0.167, 0.477], [0.2485, 0.4313], [0.1227, 0.4909], [0.2315, 0.3788], [0.1107, 0.4799], [0.2567, 0.4326], [0.1956, 0.428]] [[0.1399, 0.8291]]\n",
      "[array([0.11045833, 0.5616    ]), array([0.1971625, 0.4399   ]), array([0.1399, 0.8291])]\n",
      "[[0.0888, 0.5885], [0.0747, 0.4974], [0.0983, 0.5772], [0.1276, 0.5703], [0.1671, 0.5835], [0.1306, 0.5276], [0.1061, 0.5523], [0.1227, 0.4909], [0.124, 0.5668], [0.1461, 0.5113], [0.0494, 0.559], [0.1107, 0.4799], [0.1121, 0.5735], [0.1007, 0.6318]] [[0.2446, 0.4007], [0.167, 0.477], [0.2485, 0.4313], [0.2315, 0.3788], [0.2567, 0.4326], [0.1956, 0.428]] [[0.1399, 0.8291]]\n",
      "[array([0.11135   , 0.55071429]), array([0.22398333, 0.42473333]), array([0.1399, 0.8291])]\n",
      "[[0.0888, 0.5885], [0.0747, 0.4974], [0.0983, 0.5772], [0.1276, 0.5703], [0.1671, 0.5835], [0.1306, 0.5276], [0.1061, 0.5523], [0.1227, 0.4909], [0.124, 0.5668], [0.1461, 0.5113], [0.0494, 0.559], [0.1107, 0.4799], [0.1121, 0.5735], [0.1007, 0.6318]] [[0.2446, 0.4007], [0.167, 0.477], [0.2485, 0.4313], [0.2315, 0.3788], [0.2567, 0.4326], [0.1956, 0.428]] [[0.1399, 0.8291]]\n",
      "[array([0.11135   , 0.55071429]), array([0.22398333, 0.42473333]), array([0.1399, 0.8291])]\n",
      "[[0.0888, 0.5885], [0.0747, 0.4974], [0.0983, 0.5772], [0.1276, 0.5703], [0.1671, 0.5835], [0.1306, 0.5276], [0.1061, 0.5523], [0.1227, 0.4909], [0.124, 0.5668], [0.1461, 0.5113], [0.0494, 0.559], [0.1107, 0.4799], [0.1121, 0.5735], [0.1007, 0.6318]] [[0.2446, 0.4007], [0.167, 0.477], [0.2485, 0.4313], [0.2315, 0.3788], [0.2567, 0.4326], [0.1956, 0.428]] [[0.1399, 0.8291]]\n",
      "[array([0.11135   , 0.55071429]), array([0.22398333, 0.42473333]), array([0.1399, 0.8291])]\n",
      "[[0.0888, 0.5885], [0.0747, 0.4974], [0.0983, 0.5772], [0.1276, 0.5703], [0.1671, 0.5835], [0.1306, 0.5276], [0.1061, 0.5523], [0.1227, 0.4909], [0.124, 0.5668], [0.1461, 0.5113], [0.0494, 0.559], [0.1107, 0.4799], [0.1121, 0.5735], [0.1007, 0.6318]] [[0.2446, 0.4007], [0.167, 0.477], [0.2485, 0.4313], [0.2315, 0.3788], [0.2567, 0.4326], [0.1956, 0.428]] [[0.1399, 0.8291]]\n",
      "[array([0.11135   , 0.55071429]), array([0.22398333, 0.42473333]), array([0.1399, 0.8291])]\n",
      "[[0.0888, 0.5885], [0.0747, 0.4974], [0.0983, 0.5772], [0.1276, 0.5703], [0.1671, 0.5835], [0.1306, 0.5276], [0.1061, 0.5523], [0.1227, 0.4909], [0.124, 0.5668], [0.1461, 0.5113], [0.0494, 0.559], [0.1107, 0.4799], [0.1121, 0.5735], [0.1007, 0.6318]] [[0.2446, 0.4007], [0.167, 0.477], [0.2485, 0.4313], [0.2315, 0.3788], [0.2567, 0.4326], [0.1956, 0.428]] [[0.1399, 0.8291]]\n",
      "[array([0.11135   , 0.55071429]), array([0.22398333, 0.42473333]), array([0.1399, 0.8291])]\n",
      "[[0.0888, 0.5885], [0.0747, 0.4974], [0.0983, 0.5772], [0.1276, 0.5703], [0.1671, 0.5835], [0.1306, 0.5276], [0.1061, 0.5523], [0.1227, 0.4909], [0.124, 0.5668], [0.1461, 0.5113], [0.0494, 0.559], [0.1107, 0.4799], [0.1121, 0.5735], [0.1007, 0.6318]] [[0.2446, 0.4007], [0.167, 0.477], [0.2485, 0.4313], [0.2315, 0.3788], [0.2567, 0.4326], [0.1956, 0.428]] [[0.1399, 0.8291]]\n",
      "[array([0.11135   , 0.55071429]), array([0.22398333, 0.42473333]), array([0.1399, 0.8291])]\n",
      "[[0.0888, 0.5885], [0.0747, 0.4974], [0.0983, 0.5772], [0.1276, 0.5703], [0.1671, 0.5835], [0.1306, 0.5276], [0.1061, 0.5523], [0.1227, 0.4909], [0.124, 0.5668], [0.1461, 0.5113], [0.0494, 0.559], [0.1107, 0.4799], [0.1121, 0.5735], [0.1007, 0.6318]] [[0.2446, 0.4007], [0.167, 0.477], [0.2485, 0.4313], [0.2315, 0.3788], [0.2567, 0.4326], [0.1956, 0.428]] [[0.1399, 0.8291]]\n",
      "[array([0.11135   , 0.55071429]), array([0.22398333, 0.42473333]), array([0.1399, 0.8291])]\n",
      "[[0.0888, 0.5885], [0.0747, 0.4974], [0.0983, 0.5772], [0.1276, 0.5703], [0.1671, 0.5835], [0.1306, 0.5276], [0.1061, 0.5523], [0.1227, 0.4909], [0.124, 0.5668], [0.1461, 0.5113], [0.0494, 0.559], [0.1107, 0.4799], [0.1121, 0.5735], [0.1007, 0.6318]] [[0.2446, 0.4007], [0.167, 0.477], [0.2485, 0.4313], [0.2315, 0.3788], [0.2567, 0.4326], [0.1956, 0.428]] [[0.1399, 0.8291]]\n",
      "[array([0.11135   , 0.55071429]), array([0.22398333, 0.42473333]), array([0.1399, 0.8291])]\n",
      "[[0.0888, 0.5885], [0.0747, 0.4974], [0.0983, 0.5772], [0.1276, 0.5703], [0.1671, 0.5835], [0.1306, 0.5276], [0.1061, 0.5523], [0.1227, 0.4909], [0.124, 0.5668], [0.1461, 0.5113], [0.0494, 0.559], [0.1107, 0.4799], [0.1121, 0.5735], [0.1007, 0.6318]] [[0.2446, 0.4007], [0.167, 0.477], [0.2485, 0.4313], [0.2315, 0.3788], [0.2567, 0.4326], [0.1956, 0.428]] [[0.1399, 0.8291]]\n",
      "[array([0.11135   , 0.55071429]), array([0.22398333, 0.42473333]), array([0.1399, 0.8291])]\n",
      "[[0.0888, 0.5885], [0.0747, 0.4974], [0.0983, 0.5772], [0.1276, 0.5703], [0.1671, 0.5835], [0.1306, 0.5276], [0.1061, 0.5523], [0.1227, 0.4909], [0.124, 0.5668], [0.1461, 0.5113], [0.0494, 0.559], [0.1107, 0.4799], [0.1121, 0.5735], [0.1007, 0.6318]] [[0.2446, 0.4007], [0.167, 0.477], [0.2485, 0.4313], [0.2315, 0.3788], [0.2567, 0.4326], [0.1956, 0.428]] [[0.1399, 0.8291]]\n",
      "[array([0.11135   , 0.55071429]), array([0.22398333, 0.42473333]), array([0.1399, 0.8291])]\n",
      "[[0.0888, 0.5885], [0.0747, 0.4974], [0.0983, 0.5772], [0.1276, 0.5703], [0.1671, 0.5835], [0.1306, 0.5276], [0.1061, 0.5523], [0.1227, 0.4909], [0.124, 0.5668], [0.1461, 0.5113], [0.0494, 0.559], [0.1107, 0.4799], [0.1121, 0.5735], [0.1007, 0.6318]] [[0.2446, 0.4007], [0.167, 0.477], [0.2485, 0.4313], [0.2315, 0.3788], [0.2567, 0.4326], [0.1956, 0.428]] [[0.1399, 0.8291]]\n",
      "[array([0.11135   , 0.55071429]), array([0.22398333, 0.42473333]), array([0.1399, 0.8291])]\n",
      "[[0.0888, 0.5885], [0.0747, 0.4974], [0.0983, 0.5772], [0.1276, 0.5703], [0.1671, 0.5835], [0.1306, 0.5276], [0.1061, 0.5523], [0.1227, 0.4909], [0.124, 0.5668], [0.1461, 0.5113], [0.0494, 0.559], [0.1107, 0.4799], [0.1121, 0.5735], [0.1007, 0.6318]] [[0.2446, 0.4007], [0.167, 0.477], [0.2485, 0.4313], [0.2315, 0.3788], [0.2567, 0.4326], [0.1956, 0.428]] [[0.1399, 0.8291]]\n",
      "[array([0.11135   , 0.55071429]), array([0.22398333, 0.42473333]), array([0.1399, 0.8291])]\n",
      "[[0.0888, 0.5885], [0.0747, 0.4974], [0.0983, 0.5772], [0.1276, 0.5703], [0.1671, 0.5835], [0.1306, 0.5276], [0.1061, 0.5523], [0.1227, 0.4909], [0.124, 0.5668], [0.1461, 0.5113], [0.0494, 0.559], [0.1107, 0.4799], [0.1121, 0.5735], [0.1007, 0.6318]] [[0.2446, 0.4007], [0.167, 0.477], [0.2485, 0.4313], [0.2315, 0.3788], [0.2567, 0.4326], [0.1956, 0.428]] [[0.1399, 0.8291]]\n",
      "[array([0.11135   , 0.55071429]), array([0.22398333, 0.42473333]), array([0.1399, 0.8291])]\n"
     ]
    }
   ],
   "source": [
    "n = 15\n",
    "while n > 0:\n",
    "    B1, B2, B3 = [], [], []# 存放距离质心较近的点的列表\n",
    "    B11, B22, B33 = [], [], []#存放质心聚类的样本\n",
    "    for i in range(len(dataSet)):\n",
    "        B1.append(np.sqrt((dataSet[i][0] - C[0][0])**2 + (dataSet[i][1] - C[0][1])**2))\n",
    "        B2.append(np.sqrt((dataSet[i][0] - C[1][0])**2 + (dataSet[i][1] - C[1][1])**2))\n",
    "        B3.append(np.sqrt((dataSet[i][0] - C[2][0])**2 + (dataSet[i][1] - C[2][1])**2))\n",
    "        if (B1[i] < B2[i]) and (B1[i] < B3[i]):\n",
    "            B11.append(dataSet[i])\n",
    "        elif (B2[i] < B1[i]) and (B2[i] < B3[i]):\n",
    "            B22.append(dataSet[i])\n",
    "        elif (B3[i] < B1[i]) and (B3[i] < B2[i]):\n",
    "            B33.append(dataSet[i])\n",
    "    n = n-1\n",
    "    print(B11, B22, B33)\n",
    "    C = [np.average(np.array(B11), axis=0), np.average(np.array(B22), axis=0), np.average(np.array(B33), axis=0)]\n",
    "    print(C)"
   ],
   "metadata": {
    "collapsed": false,
    "pycharm": {
     "name": "#%%\n"
    }
   }
  },
  {
   "cell_type": "code",
   "execution_count": 58,
   "outputs": [
    {
     "name": "stdout",
     "output_type": "stream",
     "text": [
      "[0, 2, 0, 0, 0, 0, 0, 0, 1, 1, 1, 0, 0, 0, 1, 0, 0, 0, 0, 1, 1]\n"
     ]
    }
   ],
   "source": [
    "y_pred = [0 for x in range(0,len(dataSet))]\n",
    "for i in range(len(dataSet)):\n",
    "    if dataSet[i] in B11:\n",
    "        y_pred[i] = 0\n",
    "    elif dataSet[i] in B22:\n",
    "        y_pred[i]= 1\n",
    "    else:\n",
    "        y_pred[i] = 2\n",
    "print(y_pred)"
   ],
   "metadata": {
    "collapsed": false,
    "pycharm": {
     "name": "#%%y_pred 存放样本集中的数据属于哪一类的索引\n"
    }
   }
  },
  {
   "cell_type": "code",
   "execution_count": 60,
   "outputs": [
    {
     "name": "stdout",
     "output_type": "stream",
     "text": [
      "[0.0888, 0.1399, 0.0747, 0.0983, 0.1276, 0.1671, 0.1306, 0.1061, 0.2446, 0.167, 0.2485, 0.1227, 0.124, 0.1461, 0.2315, 0.0494, 0.1107, 0.1121, 0.1007, 0.2567, 0.1956]\n",
      "[0.5885, 0.8291, 0.4974, 0.5772, 0.5703, 0.5835, 0.5276, 0.5523, 0.4007, 0.477, 0.4313, 0.4909, 0.5668, 0.5113, 0.3788, 0.559, 0.4799, 0.5735, 0.6318, 0.4326, 0.428]\n"
     ]
    },
    {
     "data": {
      "text/plain": "<Figure size 432x288 with 1 Axes>",
      "image/png": "[encoded data removed]"
     },
     "metadata": {
      "needs_background": "light"
     },
     "output_type": "display_data"
    }
   ],
   "source": [
    "import numpy as np\n",
    "import matplotlib.pyplot as plt\n",
    "\n",
    "#获取数据集的第一列和第二列数据 使用for循环获取 n[0]表示X第一列\n",
    "x = [n[0] for n in dataSet]\n",
    "print (x)\n",
    "y = [n[1] for n in dataSet]\n",
    "print (y)\n",
    "\n",
    "'''\n",
    "绘制散点图\n",
    "参数：x横轴; y纵轴; c=y_pred聚类预测结果; marker类型:o表示圆点,*表示星型,x表示点;\n",
    "'''\n",
    "plt.scatter(x, y, c=y_pred, marker='x')\n",
    "\n",
    "#绘制标题\n",
    "plt.title(\"Kmeans-Basketball Data\")\n",
    "\n",
    "#绘制x轴和y轴坐标\n",
    "plt.xlabel(\"assists_per_minute\")\n",
    "plt.ylabel(\"points_per_minute\")\n",
    "\n",
    "#设置右上角图例\n",
    "plt.legend([\"A\",\"B\",\"C\"])\n",
    "\n",
    "#显示图形\n",
    "plt.show()\n"
   ],
   "metadata": {
    "collapsed": false,
    "pycharm": {
     "name": "#%%\n"
    }
   }
  }
 ],
 "metadata": {
  "kernelspec": {
   "display_name": "Python 3",
   "language": "python",
   "name": "python3"
  },
  "language_info": {
   "codemirror_mode": {
    "name": "ipython",
    "version": 2
   },
   "file_extension": ".py",
   "mimetype": "text/x-python",
   "name": "python",
   "nbconvert_exporter": "python",
   "pygments_lexer": "ipython2",
   "version": "2.7.6"
  }
 },
 "nbformat": 4,
 "nbformat_minor": 0
}